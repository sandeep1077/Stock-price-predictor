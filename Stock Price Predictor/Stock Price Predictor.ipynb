{
 "cells": [
  {
   "cell_type": "markdown",
   "metadata": {},
   "source": [
    "### Stock Price Predictor \n",
    "\n",
    "In this project, we will work on a time series problem (regression problem) which is a Stock Price Prediction, We will Predict the stock prices of Gold.    \n",
    "\n",
    "In this project, we will develop our stock price predictor using only these two predictors. In research papers, SVM, Regression algorithms  works best as compared to any other machine learning algorithms."
   ]
  },
  {
   "cell_type": "code",
   "execution_count": 2,
   "metadata": {},
   "outputs": [
    {
     "name": "stdout",
     "output_type": "stream",
     "text": [
      "Requirement already satisfied: yfinance in c:\\users\\sandeep\\anaconda3\\lib\\site-packages (0.1.77)\n",
      "Requirement already satisfied: pandas>=0.24.0 in c:\\users\\sandeep\\anaconda3\\lib\\site-packages (from yfinance) (1.4.2)\n",
      "Requirement already satisfied: lxml>=4.5.1 in c:\\users\\sandeep\\anaconda3\\lib\\site-packages (from yfinance) (4.8.0)\n",
      "Requirement already satisfied: appdirs>=1.4.4 in c:\\users\\sandeep\\anaconda3\\lib\\site-packages (from yfinance) (1.4.4)\n",
      "Requirement already satisfied: multitasking>=0.0.7 in c:\\users\\sandeep\\anaconda3\\lib\\site-packages (from yfinance) (0.0.11)\n",
      "Requirement already satisfied: requests>=2.26 in c:\\users\\sandeep\\anaconda3\\lib\\site-packages (from yfinance) (2.27.1)\n",
      "Requirement already satisfied: numpy>=1.15 in c:\\users\\sandeep\\anaconda3\\lib\\site-packages (from yfinance) (1.21.5)\n",
      "Requirement already satisfied: pytz>=2020.1 in c:\\users\\sandeep\\anaconda3\\lib\\site-packages (from pandas>=0.24.0->yfinance) (2021.3)\n",
      "Requirement already satisfied: python-dateutil>=2.8.1 in c:\\users\\sandeep\\anaconda3\\lib\\site-packages (from pandas>=0.24.0->yfinance) (2.8.2)\n",
      "Requirement already satisfied: six>=1.5 in c:\\users\\sandeep\\anaconda3\\lib\\site-packages (from python-dateutil>=2.8.1->pandas>=0.24.0->yfinance) (1.16.0)\n",
      "Requirement already satisfied: certifi>=2017.4.17 in c:\\users\\sandeep\\anaconda3\\lib\\site-packages (from requests>=2.26->yfinance) (2021.10.8)\n",
      "Requirement already satisfied: charset-normalizer~=2.0.0 in c:\\users\\sandeep\\anaconda3\\lib\\site-packages (from requests>=2.26->yfinance) (2.0.4)\n",
      "Requirement already satisfied: idna<4,>=2.5 in c:\\users\\sandeep\\anaconda3\\lib\\site-packages (from requests>=2.26->yfinance) (3.3)\n",
      "Requirement already satisfied: urllib3<1.27,>=1.21.1 in c:\\users\\sandeep\\anaconda3\\lib\\site-packages (from requests>=2.26->yfinance) (1.26.9)\n"
     ]
    }
   ],
   "source": [
    "import numpy as np \n",
    "import pandas as pd   \n",
    "!pip install yfinance\n",
    "import yfinance as yf \n",
    "\n",
    "import seaborn as sns \n",
    "import matplotlib.pyplot as plt   \n",
    "%matplotlib inline "
   ]
  },
  {
   "cell_type": "code",
   "execution_count": 3,
   "metadata": {},
   "outputs": [
    {
     "name": "stdout",
     "output_type": "stream",
     "text": [
      "Enter the code of the stock:- GC=F\n",
      "[*********************100%***********************]  1 of 1 completed\n"
     ]
    },
    {
     "data": {
      "text/html": [
       "<div>\n",
       "<style scoped>\n",
       "    .dataframe tbody tr th:only-of-type {\n",
       "        vertical-align: middle;\n",
       "    }\n",
       "\n",
       "    .dataframe tbody tr th {\n",
       "        vertical-align: top;\n",
       "    }\n",
       "\n",
       "    .dataframe thead th {\n",
       "        text-align: right;\n",
       "    }\n",
       "</style>\n",
       "<table border=\"1\" class=\"dataframe\">\n",
       "  <thead>\n",
       "    <tr style=\"text-align: right;\">\n",
       "      <th></th>\n",
       "      <th>Open</th>\n",
       "      <th>High</th>\n",
       "      <th>Low</th>\n",
       "      <th>Close</th>\n",
       "      <th>Volume</th>\n",
       "    </tr>\n",
       "    <tr>\n",
       "      <th>Date</th>\n",
       "      <th></th>\n",
       "      <th></th>\n",
       "      <th></th>\n",
       "      <th></th>\n",
       "      <th></th>\n",
       "    </tr>\n",
       "  </thead>\n",
       "  <tbody>\n",
       "    <tr>\n",
       "      <th>2008-01-02 00:00:00-05:00</th>\n",
       "      <td>848.700012</td>\n",
       "      <td>857.799988</td>\n",
       "      <td>846.400024</td>\n",
       "      <td>857.000000</td>\n",
       "      <td>130</td>\n",
       "    </tr>\n",
       "    <tr>\n",
       "      <th>2008-01-03 00:00:00-05:00</th>\n",
       "      <td>863.000000</td>\n",
       "      <td>865.500000</td>\n",
       "      <td>856.299988</td>\n",
       "      <td>866.400024</td>\n",
       "      <td>181</td>\n",
       "    </tr>\n",
       "    <tr>\n",
       "      <th>2008-01-04 00:00:00-05:00</th>\n",
       "      <td>861.400024</td>\n",
       "      <td>865.500000</td>\n",
       "      <td>860.200012</td>\n",
       "      <td>863.099976</td>\n",
       "      <td>28</td>\n",
       "    </tr>\n",
       "    <tr>\n",
       "      <th>2008-01-07 00:00:00-05:00</th>\n",
       "      <td>860.900024</td>\n",
       "      <td>860.900024</td>\n",
       "      <td>857.400024</td>\n",
       "      <td>859.599976</td>\n",
       "      <td>4</td>\n",
       "    </tr>\n",
       "    <tr>\n",
       "      <th>2008-01-08 00:00:00-05:00</th>\n",
       "      <td>861.599976</td>\n",
       "      <td>879.400024</td>\n",
       "      <td>861.599976</td>\n",
       "      <td>878.000000</td>\n",
       "      <td>21</td>\n",
       "    </tr>\n",
       "  </tbody>\n",
       "</table>\n",
       "</div>"
      ],
      "text/plain": [
       "                                 Open        High         Low       Close  \\\n",
       "Date                                                                        \n",
       "2008-01-02 00:00:00-05:00  848.700012  857.799988  846.400024  857.000000   \n",
       "2008-01-03 00:00:00-05:00  863.000000  865.500000  856.299988  866.400024   \n",
       "2008-01-04 00:00:00-05:00  861.400024  865.500000  860.200012  863.099976   \n",
       "2008-01-07 00:00:00-05:00  860.900024  860.900024  857.400024  859.599976   \n",
       "2008-01-08 00:00:00-05:00  861.599976  879.400024  861.599976  878.000000   \n",
       "\n",
       "                           Volume  \n",
       "Date                               \n",
       "2008-01-02 00:00:00-05:00     130  \n",
       "2008-01-03 00:00:00-05:00     181  \n",
       "2008-01-04 00:00:00-05:00      28  \n",
       "2008-01-07 00:00:00-05:00       4  \n",
       "2008-01-08 00:00:00-05:00      21  "
      ]
     },
     "execution_count": 3,
     "metadata": {},
     "output_type": "execute_result"
    }
   ],
   "source": [
    "stocks = input(\"Enter the code of the stock:- \") \n",
    "data = yf.download(stocks, \"2008-01-01\", \"2022-10-10\", auto_adjust=True) \n",
    "data.head()"
   ]
  },
  {
   "cell_type": "code",
   "execution_count": 4,
   "metadata": {},
   "outputs": [
    {
     "data": {
      "text/plain": [
       "(3717, 5)"
      ]
     },
     "execution_count": 4,
     "metadata": {},
     "output_type": "execute_result"
    }
   ],
   "source": [
    "data.shape "
   ]
  },
  {
   "cell_type": "code",
   "execution_count": 5,
   "metadata": {},
   "outputs": [
    {
     "name": "stdout",
     "output_type": "stream",
     "text": [
      "<class 'pandas.core.frame.DataFrame'>\n",
      "DatetimeIndex: 3717 entries, 2008-01-02 00:00:00-05:00 to 2022-10-07 00:00:00-04:00\n",
      "Data columns (total 5 columns):\n",
      " #   Column  Non-Null Count  Dtype  \n",
      "---  ------  --------------  -----  \n",
      " 0   Open    3717 non-null   float64\n",
      " 1   High    3717 non-null   float64\n",
      " 2   Low     3717 non-null   float64\n",
      " 3   Close   3717 non-null   float64\n",
      " 4   Volume  3717 non-null   int64  \n",
      "dtypes: float64(4), int64(1)\n",
      "memory usage: 174.2 KB\n"
     ]
    }
   ],
   "source": [
    "data.info()"
   ]
  },
  {
   "cell_type": "code",
   "execution_count": 6,
   "metadata": {},
   "outputs": [
    {
     "data": {
      "text/html": [
       "<div>\n",
       "<style scoped>\n",
       "    .dataframe tbody tr th:only-of-type {\n",
       "        vertical-align: middle;\n",
       "    }\n",
       "\n",
       "    .dataframe tbody tr th {\n",
       "        vertical-align: top;\n",
       "    }\n",
       "\n",
       "    .dataframe thead th {\n",
       "        text-align: right;\n",
       "    }\n",
       "</style>\n",
       "<table border=\"1\" class=\"dataframe\">\n",
       "  <thead>\n",
       "    <tr style=\"text-align: right;\">\n",
       "      <th></th>\n",
       "      <th>Open</th>\n",
       "      <th>High</th>\n",
       "      <th>Low</th>\n",
       "      <th>Close</th>\n",
       "      <th>Volume</th>\n",
       "    </tr>\n",
       "  </thead>\n",
       "  <tbody>\n",
       "    <tr>\n",
       "      <th>count</th>\n",
       "      <td>3717.000000</td>\n",
       "      <td>3717.000000</td>\n",
       "      <td>3717.000000</td>\n",
       "      <td>3717.000000</td>\n",
       "      <td>3717.000000</td>\n",
       "    </tr>\n",
       "    <tr>\n",
       "      <th>mean</th>\n",
       "      <td>1373.730563</td>\n",
       "      <td>1381.032204</td>\n",
       "      <td>1365.818967</td>\n",
       "      <td>1373.509174</td>\n",
       "      <td>5486.634921</td>\n",
       "    </tr>\n",
       "    <tr>\n",
       "      <th>std</th>\n",
       "      <td>293.843268</td>\n",
       "      <td>295.130914</td>\n",
       "      <td>292.560986</td>\n",
       "      <td>293.906600</td>\n",
       "      <td>28990.931703</td>\n",
       "    </tr>\n",
       "    <tr>\n",
       "      <th>min</th>\n",
       "      <td>705.000000</td>\n",
       "      <td>715.500000</td>\n",
       "      <td>681.000000</td>\n",
       "      <td>704.900024</td>\n",
       "      <td>0.000000</td>\n",
       "    </tr>\n",
       "    <tr>\n",
       "      <th>25%</th>\n",
       "      <td>1198.599976</td>\n",
       "      <td>1204.599976</td>\n",
       "      <td>1193.800049</td>\n",
       "      <td>1198.699951</td>\n",
       "      <td>44.000000</td>\n",
       "    </tr>\n",
       "    <tr>\n",
       "      <th>50%</th>\n",
       "      <td>1307.400024</td>\n",
       "      <td>1312.000000</td>\n",
       "      <td>1301.699951</td>\n",
       "      <td>1306.900024</td>\n",
       "      <td>146.000000</td>\n",
       "    </tr>\n",
       "    <tr>\n",
       "      <th>75%</th>\n",
       "      <td>1637.000000</td>\n",
       "      <td>1645.900024</td>\n",
       "      <td>1625.099976</td>\n",
       "      <td>1634.699951</td>\n",
       "      <td>477.000000</td>\n",
       "    </tr>\n",
       "    <tr>\n",
       "      <th>max</th>\n",
       "      <td>2053.600098</td>\n",
       "      <td>2072.000000</td>\n",
       "      <td>2040.000000</td>\n",
       "      <td>2051.500000</td>\n",
       "      <td>386334.000000</td>\n",
       "    </tr>\n",
       "  </tbody>\n",
       "</table>\n",
       "</div>"
      ],
      "text/plain": [
       "              Open         High          Low        Close         Volume\n",
       "count  3717.000000  3717.000000  3717.000000  3717.000000    3717.000000\n",
       "mean   1373.730563  1381.032204  1365.818967  1373.509174    5486.634921\n",
       "std     293.843268   295.130914   292.560986   293.906600   28990.931703\n",
       "min     705.000000   715.500000   681.000000   704.900024       0.000000\n",
       "25%    1198.599976  1204.599976  1193.800049  1198.699951      44.000000\n",
       "50%    1307.400024  1312.000000  1301.699951  1306.900024     146.000000\n",
       "75%    1637.000000  1645.900024  1625.099976  1634.699951     477.000000\n",
       "max    2053.600098  2072.000000  2040.000000  2051.500000  386334.000000"
      ]
     },
     "execution_count": 6,
     "metadata": {},
     "output_type": "execute_result"
    }
   ],
   "source": [
    "data.describe()"
   ]
  },
  {
   "cell_type": "code",
   "execution_count": 7,
   "metadata": {},
   "outputs": [
    {
     "data": {
      "image/png": "[encoded data removed]",
      "text/plain": [
       "<Figure size 720x504 with 1 Axes>"
      ]
     },
     "metadata": {
      "needs_background": "light"
     },
     "output_type": "display_data"
    }
   ],
   "source": [
    "data.Close.plot(figsize=(10, 7),color='r')\n",
    "plt.ylabel(\"{} Prices\".format(stocks))\n",
    "plt.title(\"{} Price Series\".format(stocks))\n",
    "plt.show()"
   ]
  },
  {
   "cell_type": "code",
   "execution_count": 8,
   "metadata": {},
   "outputs": [
    {
     "name": "stderr",
     "output_type": "stream",
     "text": [
      "C:\\Users\\Sandeep\\anaconda3\\lib\\site-packages\\seaborn\\distributions.py:2619: FutureWarning: `distplot` is a deprecated function and will be removed in a future version. Please adapt your code to use either `displot` (a figure-level function with similar flexibility) or `histplot` (an axes-level function for histograms).\n",
      "  warnings.warn(msg, FutureWarning)\n"
     ]
    },
    {
     "data": {
      "text/plain": [
       "<AxesSubplot:xlabel='Close', ylabel='Density'>"
      ]
     },
     "execution_count": 8,
     "metadata": {},
     "output_type": "execute_result"
    },
    {
     "data": {
      "image/png": "[encoded data removed]",
      "text/plain": [
       "<Figure size 432x288 with 1 Axes>"
      ]
     },
     "metadata": {
      "needs_background": "light"
     },
     "output_type": "display_data"
    }
   ],
   "source": [
    "sns.distplot(data[\"Close\"])"
   ]
  },
  {
   "cell_type": "code",
   "execution_count": 9,
   "metadata": {},
   "outputs": [
    {
     "name": "stderr",
     "output_type": "stream",
     "text": [
      "C:\\Users\\Sandeep\\anaconda3\\lib\\site-packages\\seaborn\\distributions.py:2619: FutureWarning: `distplot` is a deprecated function and will be removed in a future version. Please adapt your code to use either `displot` (a figure-level function with similar flexibility) or `histplot` (an axes-level function for histograms).\n",
      "  warnings.warn(msg, FutureWarning)\n"
     ]
    },
    {
     "data": {
      "text/plain": [
       "<AxesSubplot:xlabel='Open', ylabel='Density'>"
      ]
     },
     "execution_count": 9,
     "metadata": {},
     "output_type": "execute_result"
    },
    {
     "data": {
      "image/png": "[encoded data removed]",
      "text/plain": [
       "<Figure size 432x288 with 1 Axes>"
      ]
     },
     "metadata": {
      "needs_background": "light"
     },
     "output_type": "display_data"
    }
   ],
   "source": [
    "sns.distplot(data[\"Open\"])"
   ]
  },
  {
   "cell_type": "code",
   "execution_count": 10,
   "metadata": {},
   "outputs": [
    {
     "name": "stderr",
     "output_type": "stream",
     "text": [
      "C:\\Users\\Sandeep\\anaconda3\\lib\\site-packages\\seaborn\\distributions.py:2619: FutureWarning: `distplot` is a deprecated function and will be removed in a future version. Please adapt your code to use either `displot` (a figure-level function with similar flexibility) or `histplot` (an axes-level function for histograms).\n",
      "  warnings.warn(msg, FutureWarning)\n"
     ]
    },
    {
     "data": {
      "text/plain": [
       "<AxesSubplot:xlabel='High', ylabel='Density'>"
      ]
     },
     "execution_count": 10,
     "metadata": {},
     "output_type": "execute_result"
    },
    {
     "data": {
      "image/png": "[encoded data removed]",
      "text/plain": [
       "<Figure size 432x288 with 1 Axes>"
      ]
     },
     "metadata": {
      "needs_background": "light"
     },
     "output_type": "display_data"
    }
   ],
   "source": [
    "sns.distplot(data[\"High\"])"
   ]
  },
  {
   "cell_type": "code",
   "execution_count": 20,
   "metadata": {},
   "outputs": [],
   "source": [
    "# Conlusions of Data Exploration\n",
    "\n",
    "# - Shape the of the data  \n",
    "# - how our data is distributed \n",
    "# - It's very very non linear   \n"
   ]
  },
  {
   "cell_type": "markdown",
   "metadata": {},
   "source": [
    "# Model Building"
   ]
  },
  {
   "cell_type": "code",
   "execution_count": 11,
   "metadata": {},
   "outputs": [
    {
     "name": "stdout",
     "output_type": "stream",
     "text": [
      "(2973, 4)\n",
      "(744, 4)\n",
      "(2973,)\n",
      "(744,)\n"
     ]
    }
   ],
   "source": [
    "X = data.drop(\"Close\", axis=1) \n",
    "y = data[\"Close\"] \n",
    "\n",
    "from sklearn.model_selection import train_test_split \n",
    "\n",
    "X_train, X_test, y_train, y_test  = train_test_split(X,y,test_size=0.2, random_state=0) \n",
    "print(X_train.shape) \n",
    "print(X_test.shape) \n",
    "print(y_train.shape) \n",
    "print(y_test.shape) "
   ]
  },
  {
   "cell_type": "code",
   "execution_count": 21,
   "metadata": {},
   "outputs": [
    {
     "data": {
      "text/plain": [
       "array([1134.65688666, 1252.07039857, 1527.74156621, 1200.72253302,\n",
       "       1666.93552422, 1131.5734437 , 1292.20133771, 1129.02717554,\n",
       "       1293.70504702, 1978.78666969, 1198.89251917,  976.63573896,\n",
       "       1461.88281179,  999.00409034,  846.31773073, 1122.01002153,\n",
       "       1733.83068053, 1234.52832534, 1624.20305209, 1583.44523545,\n",
       "       1812.08835157, 1206.59557388, 1219.93319474, 1496.24512906,\n",
       "       1767.49151461, 1231.71776316, 1221.77173152, 1228.66176219,\n",
       "       1307.10904725, 1218.73485751, 1168.45502978, 1575.33820885,\n",
       "       1532.99952664, 1341.65781734, 1286.57934157, 1729.22198882,\n",
       "       1710.62820188, 1192.99012803, 1954.48572853, 1049.31623445,\n",
       "       1599.75415909, 1294.63811887, 1869.45175639, 1806.64168731,\n",
       "       1759.49369046,  743.39227338,  877.442457  , 1885.71584839,\n",
       "       1319.06449794, 1813.658159  ,  872.02565236, 1409.27399225,\n",
       "       1557.80898294, 1769.7023774 , 1107.66660303, 1632.72865682,\n",
       "       1321.38911549, 1961.93375899, 1195.19918924, 1296.08477614,\n",
       "       1780.49285703, 1214.97125094, 1641.74772932, 1334.68064093,\n",
       "       1821.98387664, 1311.98415869, 1257.28158592, 1393.44670525,\n",
       "       1164.42278972, 1866.14221703, 1292.01007242,  902.25080867,\n",
       "       1338.05259489, 1292.32873124, 1159.62077072, 1330.8311287 ,\n",
       "       1314.46872984, 1095.32524928,  958.30900481, 1379.96651429,\n",
       "       1594.02697648, 1316.99198773, 1160.95867077, 1280.91710132,\n",
       "       1548.04553192, 1274.01292787, 1410.52405545, 1200.41075985,\n",
       "       1713.25379554, 1731.83396173, 1113.55091721,  752.48051375,\n",
       "       1222.35786027, 1793.80765707, 1153.47488016, 1098.25358791,\n",
       "       1182.8441368 , 1721.68544841, 1782.09440376, 1573.89709818,\n",
       "       1479.15783964, 1052.35860398, 1319.85209177, 1321.41602964,\n",
       "       1760.25086685, 1137.82970594, 1659.06078368, 1333.59076097,\n",
       "       1246.22329523, 1284.11529036,  930.32224774, 1657.69151302,\n",
       "       1851.84595178, 1826.53371756, 1327.34199324, 1463.89430339,\n",
       "       1201.46851373, 1676.26960334, 1301.94206612, 1308.62466748,\n",
       "       1248.56220492, 1333.53131837,  859.94919569, 1265.56948823,\n",
       "       1462.09865013, 1779.44994454, 1594.59874947, 1742.35426307,\n",
       "       1277.20656636, 1231.19578565, 1235.46345313, 1225.5906626 ,\n",
       "       1255.85092409, 1826.39024575, 1332.4286989 , 1598.07464331,\n",
       "       1141.52834911, 1122.63165618, 1333.74618147, 1638.78968156,\n",
       "       1170.5608988 , 1222.39838954, 1285.93259007, 1339.89904453,\n",
       "       1449.58678126, 1337.34478971, 1645.95182015, 1708.31122593,\n",
       "       1482.66304953, 1616.85472412, 1730.65994811, 1844.62356197,\n",
       "       1317.2825869 , 1401.88105523, 1827.49279852, 1610.54379737,\n",
       "       1225.8918586 , 1315.03281561, 1258.8937424 , 1427.46369466,\n",
       "       1099.67944824, 1289.42510438, 1762.91648583,  886.35997883,\n",
       "       1147.10475591, 1235.60767333, 1902.5655626 , 1476.70005598,\n",
       "       1666.35807046, 1766.93959343, 1307.98654382, 1363.52545069,\n",
       "       1776.01326849, 1320.73997011, 1243.70352628, 1099.65398629,\n",
       "       1919.53635618, 1362.57303818, 1946.10539851, 1286.54261336,\n",
       "       1104.55595818, 1202.02890579, 1520.92020047, 1749.96201126,\n",
       "       1787.07568757, 1756.45549676, 1608.22267055, 1089.79922082,\n",
       "       1696.54319156, 1303.63372439, 1104.39300364, 1793.12655868,\n",
       "       1830.67106767,  935.27799088,  856.77885779, 1084.21719134,\n",
       "       1723.58180899,  966.36536319,  925.28037405, 1376.20825361,\n",
       "       1339.19910293, 1668.22651376, 1351.84527119, 1939.45832594,\n",
       "       1540.24958279, 1658.95359147,  900.76710525, 1201.24765108,\n",
       "        980.02725564, 1287.12682923, 1614.55295508, 1263.06082038,\n",
       "       1285.43927   , 1133.38310264,  897.86008503, 1861.64983601,\n",
       "       1289.7279111 , 1592.4224968 , 1800.58285605, 1078.17736156,\n",
       "       1306.53438094, 1660.66472422, 1196.95852639, 1805.60618918,\n",
       "       1921.37292355, 1783.4557388 , 1510.55827535, 1125.91456956,\n",
       "       1869.06561967, 1635.9341266 , 1519.28906679, 1332.03989808,\n",
       "       1184.63135405, 1262.27041899, 2003.00966564,  882.07265018,\n",
       "       1613.93042018, 1422.54789156, 1244.26594103, 1262.28823332,\n",
       "       1330.71120491, 1805.37328455, 1253.73190502, 1615.18156393,\n",
       "       1285.50546351, 1186.83288099,  950.52047914, 1758.53931889,\n",
       "       1797.82342685, 1573.33088183, 1296.63471876, 1510.66425512,\n",
       "       1410.46569159,  862.0330796 , 1153.74959959, 1278.03545601,\n",
       "       1270.335483  ,  879.75845694,  904.52879643, 1285.79734376,\n",
       "       1187.71222121, 1221.11340678, 1564.62571949, 1289.13191431,\n",
       "        823.21001032, 1336.64429988,  899.22141281, 1944.56737778,\n",
       "       1169.25698215, 1715.44195208, 1217.6084925 , 1546.64207184,\n",
       "       1665.08032868, 1208.76616319, 1237.91912638, 1328.86886081,\n",
       "        923.01511829, 1616.3879225 , 1724.92699565, 1426.67138373,\n",
       "       1164.67754461, 1884.62644989, 1907.71822345, 1283.56011743,\n",
       "       1167.86661723, 1201.39324582, 1820.28046702, 1186.76788043,\n",
       "       1900.5634174 , 1796.41657888,  903.49730416, 1321.7828382 ,\n",
       "       1307.74535124, 1305.47859151, 1288.70279719, 1195.81789524,\n",
       "       1945.44791872, 1808.9474558 , 1116.92821356, 1833.28156997,\n",
       "        901.51672078, 1430.05205295,  921.57713897,  918.6360708 ,\n",
       "       1338.53005836, 1220.98410571, 1164.13346994, 1965.02210224,\n",
       "        913.54943058, 1487.27414982, 1308.0944131 , 1821.95967456,\n",
       "       1888.62273774, 1655.43563262, 1188.39406023, 1791.90703249,\n",
       "       1701.20826795, 1590.24095146, 1930.97357809, 1132.47035845,\n",
       "       1649.79044539, 1235.05042867,  936.49373382, 1481.43082304,\n",
       "       1694.60435946, 1463.59530313, 1810.77390765, 1558.57112674,\n",
       "        928.29565652, 1336.2431871 ,  923.92537509,  791.43425534,\n",
       "       1342.37827745, 1812.83165601, 1233.17978121, 1224.63898588,\n",
       "       1247.12018282, 1351.09952371, 1307.23306336, 1551.42045203,\n",
       "        945.86689117, 1072.90966577, 1272.31278333, 1137.96008089,\n",
       "       1228.05580409, 1306.50710874, 1062.31741715, 1887.29187398,\n",
       "       1820.9987133 , 1475.80812533,  867.39713805, 1756.16446356,\n",
       "       1691.75499172, 1129.28395506, 1720.41253882,  909.50982616,\n",
       "       1195.41434208, 1103.4793116 , 1119.94275427, 1735.64856965,\n",
       "       1336.47263658, 1148.37664296, 1294.43263109, 1904.54980433,\n",
       "       1055.19243276, 1633.98423352, 1620.99001208, 1516.24064305,\n",
       "       1211.65353482,  953.68915258, 1087.40351897, 1091.56628623,\n",
       "       1274.15368949,  923.58198811, 1214.31210651,  995.07086092,\n",
       "       1551.0820524 , 1839.85745495, 1768.89060523, 1117.19674245,\n",
       "       1096.97626496, 1565.95892079, 1884.53965793, 1902.57858878,\n",
       "       1515.37004414, 1325.60782518, 1221.39721084, 1690.9371988 ,\n",
       "       1694.56591596,  940.69580974, 1211.3265992 , 1693.60129597,\n",
       "       1254.89032733, 1617.05822844, 1273.90860491, 1677.03166844,\n",
       "       1093.68493591, 1579.19198142, 1382.84107635, 1203.26213635,\n",
       "       1116.72880165, 1371.78440866, 1845.04860641, 1660.26448778,\n",
       "       1258.673501  , 1801.67256257, 1246.39605683, 1162.09467795,\n",
       "       1198.40307621, 1253.69541309, 1253.43724361, 1800.1212584 ,\n",
       "       1530.99621026, 1114.24943282, 1973.10328183, 1197.62342871,\n",
       "       1254.986803  , 1285.36216721, 1703.15328088, 1226.10314506,\n",
       "       1387.12373241, 1817.23356768,  955.79630417,  884.73016376,\n",
       "        889.40148207, 1292.59515777, 1269.74480433, 1659.79658594,\n",
       "        875.16566111,  802.36673076, 1825.32787068, 1059.30040437,\n",
       "       1056.21362301, 1319.62963498, 1797.05437918, 1685.86728014,\n",
       "       1192.28193808, 1298.57892833, 1795.58897955, 1217.32745318,\n",
       "       1222.26424574, 1387.26578721, 1084.33782452, 1510.40222485,\n",
       "       1761.68180433, 1805.67849491, 1881.2370445 , 1093.86250669,\n",
       "       1322.50693102, 1275.57148886, 1200.5311109 , 1090.47885604,\n",
       "       1511.27455793, 1812.02466043, 1751.95836837, 1826.63491877,\n",
       "       1208.496255  , 1764.7613432 , 1271.835939  ,  940.07144691,\n",
       "       1175.14695949, 1080.11056344, 1381.67383289, 1625.00904317,\n",
       "       1661.13389977, 1129.28481866, 1411.14693766, 1740.87419852,\n",
       "       1013.65606169, 1721.79099997,  963.75489019, 1268.03714028,\n",
       "       1216.22657314, 1602.49738355, 1571.37143122, 1381.09872012,\n",
       "        913.78479755,  872.3202063 , 1323.69271753,  727.71535055,\n",
       "        927.77161233,  732.05600312, 1223.19497555, 1273.76955398,\n",
       "       1599.07640317, 1604.46926201, 1328.65273654,  876.6626554 ,\n",
       "       1647.32093469, 1801.94228049, 1790.86023709, 1250.41919039,\n",
       "       1335.78791857, 1696.0082879 , 1858.18014096, 1727.96689607,\n",
       "        923.71771943, 1109.44620631,  902.90749275, 1284.39584134,\n",
       "       1509.72558591, 1317.92339721, 1806.73543309, 1139.09178316,\n",
       "       1285.49165794, 1856.28061288, 1509.69563729,  781.01621327,\n",
       "       1389.42699531, 1832.82157732, 1380.54253749, 1311.5363172 ,\n",
       "        771.57926899, 1772.63390998,  938.14801062, 1116.70183299,\n",
       "       1425.7736335 , 1206.41981147, 1494.70874789, 1258.06606978,\n",
       "       1642.1661727 , 1715.17383414, 1117.39187018, 1534.78914732,\n",
       "       1160.42650416,  767.79927748, 1667.64176878,  908.03885165,\n",
       "       1276.28441518, 1519.49130273, 1485.542718  ,  961.25639923,\n",
       "       1222.4593234 , 1722.2791462 , 1806.49329028, 1248.84250007,\n",
       "       1290.62814513, 1154.56877259, 1331.65512925, 1507.99190375,\n",
       "       1239.00627347, 1300.9776341 , 1664.63526489, 1614.91034413,\n",
       "       1686.40487257, 1806.42777775, 1226.44680636,  834.22284669,\n",
       "       1761.43862989, 1837.24131297, 1661.96425113, 1269.77599967,\n",
       "       1285.32416823,  911.37222828, 1294.33311121, 1560.22909453,\n",
       "       1230.70999905, 1168.15098854, 1839.97667951, 1885.33344692,\n",
       "       1805.08702506, 1754.70330389, 1726.47218342,  840.60392273,\n",
       "       1316.97570439, 1669.4852552 ,  933.33042469, 1268.29601896,\n",
       "       1201.50600162, 1054.86852823,  795.01354051, 1731.19733067,\n",
       "       1189.85101775, 1301.43348946, 1241.40192258, 1452.87422605,\n",
       "       1221.99460496, 1495.44570991, 1275.69659692,  808.4442215 ,\n",
       "       1203.33262933, 1652.38249107, 1104.08987127, 1402.31410443,\n",
       "       1154.32855356, 1757.25646389, 1128.76160717, 1274.43086193,\n",
       "       1164.33122433,  898.84952941, 1197.69444509, 1710.36338712,\n",
       "       1275.16279043,  907.73925582, 1681.83492996,  811.60805381,\n",
       "        900.44918448, 1230.45810482,  878.31093108, 1699.9012266 ,\n",
       "       1604.29092037, 1752.6308419 , 1226.20328158, 1491.62621174,\n",
       "       1593.65153881, 1728.67755425,  935.65231496,  891.31043073,\n",
       "       1134.95879504, 1838.88792247, 1859.07313595, 1688.19004233,\n",
       "       2033.23589637, 1785.88476112, 1288.88028487, 1473.71101388,\n",
       "       1058.3699074 , 1708.81562261, 1723.97067231, 1281.71042559,\n",
       "       1261.66179025, 1357.53629723, 1737.91410149, 1388.28157167,\n",
       "        957.47545342, 1739.46022359, 1229.90466931, 1793.42734069,\n",
       "       1894.67406793, 1286.4232732 , 1095.55245619, 1369.6476093 ,\n",
       "        946.71110837, 1179.20970211, 1846.22175067, 1489.03814074,\n",
       "       1226.9030868 ,  949.89596692, 1401.18790248, 1298.15345185,\n",
       "       1213.73050313, 1258.63954895, 1391.00276415, 1294.74510313,\n",
       "       1419.31753745, 1193.83860028,  724.99618761, 1076.64163732,\n",
       "       1279.82405551, 1107.64334581, 1878.05999541, 1799.15547271,\n",
       "       1277.49123657, 1746.67184817,  890.91705855, 1563.94934214,\n",
       "       1269.481515  , 1777.58249241, 1637.12661637,  946.19269686,\n",
       "       1200.42885882, 1583.21752094, 1258.44198626, 1289.21036533,\n",
       "       1126.95022242, 1763.8189447 , 1668.5689008 , 1227.14831154,\n",
       "       1681.18084292,  908.90174909, 1193.72839609, 1942.5488291 ,\n",
       "       1810.11215323, 1179.95379521,  964.02845626, 1001.51438236,\n",
       "        952.08354509, 1221.88480591, 1821.84563864, 1509.21441233,\n",
       "       1459.26840532, 1251.52378006, 1782.81091254, 1688.96034262,\n",
       "        931.11058897, 1575.75982936, 1042.40707401, 1202.62072645,\n",
       "       1387.71485949, 1169.68921868, 1287.86227009, 1784.58224907,\n",
       "       1225.73998864, 1123.96348457, 1805.84412724, 1284.26352954,\n",
       "       1239.62861281, 1872.89535073,  909.79381182, 1397.5553292 ,\n",
       "       1340.55203259, 1186.56022828,  919.29517058, 1880.18457669,\n",
       "       1690.80181499, 1660.75240991, 1350.28596731, 1233.68822594,\n",
       "       1372.78094651, 1296.86552153, 1331.67177315, 1278.97125337,\n",
       "       1456.35568916, 1717.03297623, 1643.56314411, 1899.3389171 ,\n",
       "       1281.44925333, 1116.41469969, 1332.7769682 , 1245.24110704,\n",
       "       1875.59452872, 1563.0256634 , 1232.80069781,  966.32408449,\n",
       "       1277.62012696, 1178.82689871, 1290.08289236, 1669.97750653,\n",
       "       1293.03652124, 1261.66585219, 1146.30761098, 1304.71943923,\n",
       "       1292.02875109, 1863.45921635, 1249.67334687, 1704.29490339,\n",
       "       1270.47941311, 1473.35897789, 1285.1260527 , 1199.69299255,\n",
       "       1187.5042879 , 1303.76767711, 1149.81826651, 1572.75705166])"
      ]
     },
     "execution_count": 21,
     "metadata": {},
     "output_type": "execute_result"
    }
   ],
   "source": [
    "from sklearn.linear_model import LinearRegression\n",
    "\n",
    "lr = LinearRegression() \n",
    "lr.fit(X_train, y_train) \n",
    "pred1 = lr.predict(X_test)\n",
    "pred1"
   ]
  },
  {
   "cell_type": "code",
   "execution_count": 22,
   "metadata": {},
   "outputs": [
    {
     "data": {
      "text/plain": [
       "Date\n",
       "2010-03-04 00:00:00-05:00    1132.599976\n",
       "2017-04-06 00:00:00-04:00    1250.300049\n",
       "2011-06-02 00:00:00-04:00    1532.000000\n",
       "2015-04-01 00:00:00-04:00    1208.099976\n",
       "2012-03-30 00:00:00-04:00    1669.300049\n",
       "                                ...     \n",
       "2018-09-24 00:00:00-04:00    1199.300049\n",
       "2018-10-01 00:00:00-04:00    1187.099976\n",
       "2014-05-14 00:00:00-04:00    1305.699951\n",
       "2010-04-16 00:00:00-04:00    1136.300049\n",
       "2013-03-04 00:00:00-05:00    1572.099976\n",
       "Name: Close, Length: 744, dtype: float64"
      ]
     },
     "execution_count": 22,
     "metadata": {},
     "output_type": "execute_result"
    }
   ],
   "source": [
    "y_test"
   ]
  },
  {
   "cell_type": "code",
   "execution_count": 13,
   "metadata": {},
   "outputs": [
    {
     "name": "stdout",
     "output_type": "stream",
     "text": [
      "MSE:-  28.18676904052341\n",
      "RMSE:-  5.309121305877594\n",
      "R2_score:-  0.9996898363146797\n"
     ]
    }
   ],
   "source": [
    "# MSE -- > Mean Squared  \n",
    "# RMSE ---> sart(MSE) \n",
    "# r2_square ---> 1.0 # good model \n",
    "\n",
    "from sklearn.metrics import mean_squared_error, r2_score \n",
    "\n",
    "\n",
    "def calculate_metrics(y_test, y_pred):  \n",
    "    ''' \n",
    "    y_test:- ground truth \n",
    "    y_pred:- model predict  \n",
    "    '''\n",
    "    mse = mean_squared_error(y_test, y_pred) \n",
    "    rmse = np.sqrt(mse) \n",
    "    r2_scors = r2_score(y_test, y_pred) \n",
    "    \n",
    "    print(\"MSE:- \", mse) \n",
    "    print(\"RMSE:- \", rmse) \n",
    "    print(\"R2_score:- \", r2_scors) \n",
    "    \n",
    "calculate_metrics(y_test, pred1)"
   ]
  },
  {
   "cell_type": "code",
   "execution_count": 14,
   "metadata": {},
   "outputs": [
    {
     "name": "stderr",
     "output_type": "stream",
     "text": [
      "C:\\Users\\Sandeep\\anaconda3\\lib\\site-packages\\sklearn\\linear_model\\_coordinate_descent.py:647: ConvergenceWarning: Objective did not converge. You might want to increase the number of iterations, check the scale of the features or consider increasing regularisation. Duality gap: 8.269e+04, tolerance: 2.533e+04\n",
      "  model = cd_fast.enet_coordinate_descent(\n"
     ]
    }
   ],
   "source": [
    "from sklearn.linear_model import Lasso, Ridge \n",
    "\n",
    "la = Lasso().fit(X_train, y_train )\n",
    "ri = Ridge().fit(X_train, y_train ) \n",
    "\n",
    "la_p = la.predict(X_test) \n",
    "ri_p = ri.predict(X_test)"
   ]
  },
  {
   "cell_type": "code",
   "execution_count": 15,
   "metadata": {},
   "outputs": [
    {
     "name": "stdout",
     "output_type": "stream",
     "text": [
      "MSE:-  70.99220906169967\n",
      "RMSE:-  8.4256874533595\n",
      "R2_score:-  0.9992188106001098\n"
     ]
    }
   ],
   "source": [
    "calculate_metrics(y_test, la_p)"
   ]
  },
  {
   "cell_type": "code",
   "execution_count": 16,
   "metadata": {},
   "outputs": [
    {
     "name": "stdout",
     "output_type": "stream",
     "text": [
      "MSE:-  28.18687149187514\n",
      "RMSE:-  5.309130954485409\n",
      "R2_score:-  0.9996898351873178\n"
     ]
    }
   ],
   "source": [
    "calculate_metrics(y_test, ri_p)"
   ]
  },
  {
   "cell_type": "code",
   "execution_count": 17,
   "metadata": {
    "scrolled": true
   },
   "outputs": [
    {
     "name": "stdout",
     "output_type": "stream",
     "text": [
      "Fitting 5 folds for each of 25 candidates, totalling 125 fits\n",
      "[CV 1/5] END .......C=0.1, gamma=1, kernel=rbf;, score=-0.079 total time=   1.3s\n",
      "[CV 2/5] END .......C=0.1, gamma=1, kernel=rbf;, score=-0.050 total time=   1.3s\n",
      "[CV 3/5] END .......C=0.1, gamma=1, kernel=rbf;, score=-0.033 total time=   1.3s\n",
      "[CV 4/5] END .......C=0.1, gamma=1, kernel=rbf;, score=-0.044 total time=   1.4s\n",
      "[CV 5/5] END .......C=0.1, gamma=1, kernel=rbf;, score=-0.047 total time=   1.4s\n",
      "[CV 1/5] END .....C=0.1, gamma=0.1, kernel=rbf;, score=-0.079 total time=   1.3s\n",
      "[CV 2/5] END .....C=0.1, gamma=0.1, kernel=rbf;, score=-0.050 total time=   1.2s\n",
      "[CV 3/5] END .....C=0.1, gamma=0.1, kernel=rbf;, score=-0.033 total time=   1.3s\n",
      "[CV 4/5] END .....C=0.1, gamma=0.1, kernel=rbf;, score=-0.044 total time=   1.3s\n",
      "[CV 5/5] END .....C=0.1, gamma=0.1, kernel=rbf;, score=-0.047 total time=   1.3s\n",
      "[CV 1/5] END ....C=0.1, gamma=0.01, kernel=rbf;, score=-0.078 total time=   1.3s\n",
      "[CV 2/5] END ....C=0.1, gamma=0.01, kernel=rbf;, score=-0.050 total time=   1.2s\n",
      "[CV 3/5] END ....C=0.1, gamma=0.01, kernel=rbf;, score=-0.032 total time=   1.2s\n",
      "[CV 4/5] END ....C=0.1, gamma=0.01, kernel=rbf;, score=-0.044 total time=   1.2s\n",
      "[CV 5/5] END ....C=0.1, gamma=0.01, kernel=rbf;, score=-0.047 total time=   1.2s\n",
      "[CV 1/5] END ...C=0.1, gamma=0.001, kernel=rbf;, score=-0.074 total time=   1.2s\n",
      "[CV 2/5] END ...C=0.1, gamma=0.001, kernel=rbf;, score=-0.047 total time=   1.2s\n",
      "[CV 3/5] END ...C=0.1, gamma=0.001, kernel=rbf;, score=-0.030 total time=   1.3s\n",
      "[CV 4/5] END ...C=0.1, gamma=0.001, kernel=rbf;, score=-0.041 total time=   1.2s\n",
      "[CV 5/5] END ...C=0.1, gamma=0.001, kernel=rbf;, score=-0.045 total time=   1.2s\n",
      "[CV 1/5] END ..C=0.1, gamma=0.0001, kernel=rbf;, score=-0.052 total time=   0.9s\n",
      "[CV 2/5] END ..C=0.1, gamma=0.0001, kernel=rbf;, score=-0.024 total time=   1.0s\n",
      "[CV 3/5] END ..C=0.1, gamma=0.0001, kernel=rbf;, score=-0.008 total time=   0.9s\n",
      "[CV 4/5] END ..C=0.1, gamma=0.0001, kernel=rbf;, score=-0.020 total time=   1.0s\n",
      "[CV 5/5] END ..C=0.1, gamma=0.0001, kernel=rbf;, score=-0.021 total time=   1.3s\n",
      "[CV 1/5] END .........C=1, gamma=1, kernel=rbf;, score=-0.079 total time=   1.3s\n",
      "[CV 2/5] END .........C=1, gamma=1, kernel=rbf;, score=-0.051 total time=   1.4s\n",
      "[CV 3/5] END .........C=1, gamma=1, kernel=rbf;, score=-0.033 total time=   1.2s\n",
      "[CV 4/5] END .........C=1, gamma=1, kernel=rbf;, score=-0.044 total time=   1.2s\n",
      "[CV 5/5] END .........C=1, gamma=1, kernel=rbf;, score=-0.048 total time=   1.2s\n",
      "[CV 1/5] END .......C=1, gamma=0.1, kernel=rbf;, score=-0.079 total time=   1.2s\n",
      "[CV 2/5] END .......C=1, gamma=0.1, kernel=rbf;, score=-0.050 total time=   1.6s\n",
      "[CV 3/5] END .......C=1, gamma=0.1, kernel=rbf;, score=-0.033 total time=   1.7s\n",
      "[CV 4/5] END .......C=1, gamma=0.1, kernel=rbf;, score=-0.044 total time=   1.8s\n",
      "[CV 5/5] END .......C=1, gamma=0.1, kernel=rbf;, score=-0.048 total time=   1.3s\n",
      "[CV 1/5] END ......C=1, gamma=0.01, kernel=rbf;, score=-0.075 total time=   1.5s\n",
      "[CV 2/5] END ......C=1, gamma=0.01, kernel=rbf;, score=-0.048 total time=   1.3s\n",
      "[CV 3/5] END ......C=1, gamma=0.01, kernel=rbf;, score=-0.030 total time=   1.1s\n",
      "[CV 4/5] END ......C=1, gamma=0.01, kernel=rbf;, score=-0.042 total time=   1.3s\n",
      "[CV 5/5] END ......C=1, gamma=0.01, kernel=rbf;, score=-0.045 total time=   1.2s\n",
      "[CV 1/5] END .....C=1, gamma=0.001, kernel=rbf;, score=-0.048 total time=   1.2s\n",
      "[CV 2/5] END .....C=1, gamma=0.001, kernel=rbf;, score=-0.021 total time=   1.1s\n",
      "[CV 3/5] END .....C=1, gamma=0.001, kernel=rbf;, score=-0.003 total time=   1.1s\n",
      "[CV 4/5] END .....C=1, gamma=0.001, kernel=rbf;, score=-0.017 total time=   1.1s\n",
      "[CV 5/5] END .....C=1, gamma=0.001, kernel=rbf;, score=-0.019 total time=   1.1s\n",
      "[CV 1/5] END .....C=1, gamma=0.0001, kernel=rbf;, score=0.132 total time=   1.0s\n",
      "[CV 2/5] END .....C=1, gamma=0.0001, kernel=rbf;, score=0.166 total time=   0.9s\n",
      "[CV 3/5] END .....C=1, gamma=0.0001, kernel=rbf;, score=0.173 total time=   0.9s\n",
      "[CV 4/5] END .....C=1, gamma=0.0001, kernel=rbf;, score=0.163 total time=   1.0s\n",
      "[CV 5/5] END .....C=1, gamma=0.0001, kernel=rbf;, score=0.161 total time=   1.0s\n",
      "[CV 1/5] END ........C=10, gamma=1, kernel=rbf;, score=-0.079 total time=   1.1s\n",
      "[CV 2/5] END ........C=10, gamma=1, kernel=rbf;, score=-0.052 total time=   1.1s\n",
      "[CV 3/5] END ........C=10, gamma=1, kernel=rbf;, score=-0.033 total time=   1.3s\n",
      "[CV 4/5] END ........C=10, gamma=1, kernel=rbf;, score=-0.047 total time=   1.3s\n",
      "[CV 5/5] END ........C=10, gamma=1, kernel=rbf;, score=-0.049 total time=   1.3s\n",
      "[CV 1/5] END ......C=10, gamma=0.1, kernel=rbf;, score=-0.078 total time=   1.2s\n",
      "[CV 2/5] END ......C=10, gamma=0.1, kernel=rbf;, score=-0.050 total time=   1.3s\n",
      "[CV 3/5] END ......C=10, gamma=0.1, kernel=rbf;, score=-0.032 total time=   1.3s\n",
      "[CV 4/5] END ......C=10, gamma=0.1, kernel=rbf;, score=-0.046 total time=   1.3s\n",
      "[CV 5/5] END ......C=10, gamma=0.1, kernel=rbf;, score=-0.048 total time=   1.2s\n",
      "[CV 1/5] END .....C=10, gamma=0.01, kernel=rbf;, score=-0.055 total time=   1.2s\n",
      "[CV 2/5] END .....C=10, gamma=0.01, kernel=rbf;, score=-0.025 total time=   1.4s\n",
      "[CV 3/5] END .....C=10, gamma=0.01, kernel=rbf;, score=-0.007 total time=   1.3s\n",
      "[CV 4/5] END .....C=10, gamma=0.01, kernel=rbf;, score=-0.023 total time=   1.2s\n",
      "[CV 5/5] END .....C=10, gamma=0.01, kernel=rbf;, score=-0.025 total time=   1.3s\n",
      "[CV 1/5] END .....C=10, gamma=0.001, kernel=rbf;, score=0.163 total time=   1.2s\n",
      "[CV 2/5] END .....C=10, gamma=0.001, kernel=rbf;, score=0.193 total time=   1.2s\n",
      "[CV 3/5] END .....C=10, gamma=0.001, kernel=rbf;, score=0.203 total time=   1.2s\n",
      "[CV 4/5] END .....C=10, gamma=0.001, kernel=rbf;, score=0.190 total time=   1.2s\n",
      "[CV 5/5] END .....C=10, gamma=0.001, kernel=rbf;, score=0.186 total time=   1.1s\n",
      "[CV 1/5] END ....C=10, gamma=0.0001, kernel=rbf;, score=0.672 total time=   1.1s\n",
      "[CV 2/5] END ....C=10, gamma=0.0001, kernel=rbf;, score=0.697 total time=   1.0s\n",
      "[CV 3/5] END ....C=10, gamma=0.0001, kernel=rbf;, score=0.704 total time=   1.0s\n",
      "[CV 4/5] END ....C=10, gamma=0.0001, kernel=rbf;, score=0.681 total time=   1.1s\n",
      "[CV 5/5] END ....C=10, gamma=0.0001, kernel=rbf;, score=0.672 total time=   1.0s\n",
      "[CV 1/5] END .......C=100, gamma=1, kernel=rbf;, score=-0.063 total time=   1.2s\n",
      "[CV 2/5] END .......C=100, gamma=1, kernel=rbf;, score=-0.037 total time=   1.2s\n",
      "[CV 3/5] END .......C=100, gamma=1, kernel=rbf;, score=-0.023 total time=   1.4s\n",
      "[CV 4/5] END .......C=100, gamma=1, kernel=rbf;, score=-0.033 total time=   1.3s\n",
      "[CV 5/5] END .......C=100, gamma=1, kernel=rbf;, score=-0.035 total time=   1.3s\n",
      "[CV 1/5] END .....C=100, gamma=0.1, kernel=rbf;, score=-0.052 total time=   1.3s\n",
      "[CV 2/5] END .....C=100, gamma=0.1, kernel=rbf;, score=-0.025 total time=   1.3s\n",
      "[CV 3/5] END .....C=100, gamma=0.1, kernel=rbf;, score=-0.011 total time=   1.5s\n",
      "[CV 4/5] END .....C=100, gamma=0.1, kernel=rbf;, score=-0.025 total time=   1.4s\n",
      "[CV 5/5] END .....C=100, gamma=0.1, kernel=rbf;, score=-0.026 total time=   1.3s\n",
      "[CV 1/5] END .....C=100, gamma=0.01, kernel=rbf;, score=0.107 total time=   1.5s\n",
      "[CV 2/5] END .....C=100, gamma=0.01, kernel=rbf;, score=0.138 total time=   1.5s\n",
      "[CV 3/5] END .....C=100, gamma=0.01, kernel=rbf;, score=0.156 total time=   1.8s\n",
      "[CV 4/5] END .....C=100, gamma=0.01, kernel=rbf;, score=0.134 total time=   1.5s\n",
      "[CV 5/5] END .....C=100, gamma=0.01, kernel=rbf;, score=0.132 total time=   1.6s\n",
      "[CV 1/5] END ....C=100, gamma=0.001, kernel=rbf;, score=0.635 total time=   2.2s\n",
      "[CV 2/5] END ....C=100, gamma=0.001, kernel=rbf;, score=0.646 total time=   2.0s\n",
      "[CV 3/5] END ....C=100, gamma=0.001, kernel=rbf;, score=0.670 total time=   2.1s\n",
      "[CV 4/5] END ....C=100, gamma=0.001, kernel=rbf;, score=0.643 total time=   2.0s\n",
      "[CV 5/5] END ....C=100, gamma=0.001, kernel=rbf;, score=0.617 total time=   2.2s\n",
      "[CV 1/5] END ...C=100, gamma=0.0001, kernel=rbf;, score=0.874 total time=   2.0s\n",
      "[CV 2/5] END ...C=100, gamma=0.0001, kernel=rbf;, score=0.851 total time=   2.1s\n",
      "[CV 3/5] END ...C=100, gamma=0.0001, kernel=rbf;, score=0.879 total time=   2.3s\n",
      "[CV 4/5] END ...C=100, gamma=0.0001, kernel=rbf;, score=0.875 total time=   2.1s\n",
      "[CV 5/5] END ...C=100, gamma=0.0001, kernel=rbf;, score=0.894 total time=   2.1s\n",
      "[CV 1/5] END ......C=1000, gamma=1, kernel=rbf;, score=-0.003 total time=   1.8s\n"
     ]
    },
    {
     "name": "stdout",
     "output_type": "stream",
     "text": [
      "[CV 2/5] END .......C=1000, gamma=1, kernel=rbf;, score=0.001 total time=   1.7s\n",
      "[CV 3/5] END .......C=1000, gamma=1, kernel=rbf;, score=0.001 total time=   1.5s\n",
      "[CV 4/5] END ......C=1000, gamma=1, kernel=rbf;, score=-0.000 total time=   1.6s\n",
      "[CV 5/5] END .......C=1000, gamma=1, kernel=rbf;, score=0.000 total time=   1.5s\n",
      "[CV 1/5] END .....C=1000, gamma=0.1, kernel=rbf;, score=0.017 total time=   1.5s\n",
      "[CV 2/5] END .....C=1000, gamma=0.1, kernel=rbf;, score=0.027 total time=   1.6s\n",
      "[CV 3/5] END .....C=1000, gamma=0.1, kernel=rbf;, score=0.028 total time=   1.6s\n",
      "[CV 4/5] END .....C=1000, gamma=0.1, kernel=rbf;, score=0.016 total time=   1.6s\n",
      "[CV 5/5] END .....C=1000, gamma=0.1, kernel=rbf;, score=0.015 total time=   1.6s\n",
      "[CV 1/5] END ....C=1000, gamma=0.01, kernel=rbf;, score=0.256 total time=   2.2s\n",
      "[CV 2/5] END ....C=1000, gamma=0.01, kernel=rbf;, score=0.286 total time=   2.0s\n",
      "[CV 3/5] END ....C=1000, gamma=0.01, kernel=rbf;, score=0.312 total time=   2.2s\n",
      "[CV 4/5] END ....C=1000, gamma=0.01, kernel=rbf;, score=0.273 total time=   2.0s\n",
      "[CV 5/5] END ....C=1000, gamma=0.01, kernel=rbf;, score=0.275 total time=   2.1s\n",
      "[CV 1/5] END ...C=1000, gamma=0.001, kernel=rbf;, score=0.742 total time=  12.3s\n",
      "[CV 2/5] END ...C=1000, gamma=0.001, kernel=rbf;, score=0.757 total time=  12.8s\n",
      "[CV 3/5] END ...C=1000, gamma=0.001, kernel=rbf;, score=0.778 total time=  13.7s\n",
      "[CV 4/5] END ...C=1000, gamma=0.001, kernel=rbf;, score=0.740 total time=  10.8s\n",
      "[CV 5/5] END ...C=1000, gamma=0.001, kernel=rbf;, score=0.755 total time=  14.3s\n",
      "[CV 1/5] END ..C=1000, gamma=0.0001, kernel=rbf;, score=0.905 total time=  15.5s\n",
      "[CV 2/5] END ..C=1000, gamma=0.0001, kernel=rbf;, score=0.879 total time=  12.6s\n",
      "[CV 3/5] END ..C=1000, gamma=0.0001, kernel=rbf;, score=0.896 total time=  17.3s\n",
      "[CV 4/5] END ..C=1000, gamma=0.0001, kernel=rbf;, score=0.909 total time=  15.2s\n",
      "[CV 5/5] END ..C=1000, gamma=0.0001, kernel=rbf;, score=0.924 total time=  14.5s\n"
     ]
    },
    {
     "data": {
      "text/plain": [
       "GridSearchCV(estimator=SVR(),\n",
       "             param_grid={'C': [0.1, 1, 10, 100, 1000],\n",
       "                         'gamma': [1, 0.1, 0.01, 0.001, 0.0001],\n",
       "                         'kernel': ['rbf']},\n",
       "             verbose=3)"
      ]
     },
     "execution_count": 17,
     "metadata": {},
     "output_type": "execute_result"
    }
   ],
   "source": [
    "from sklearn.svm import SVR \n",
    "from sklearn.model_selection import GridSearchCV \n",
    "\n",
    "svr = SVR() \n",
    "\n",
    "\n",
    "param_grid = {'C': [0.1, 1, 10, 100, 1000],  \n",
    "              'gamma': [1, 0.1, 0.01, 0.001, 0.0001], \n",
    "              'kernel': ['rbf']}   \n",
    "\n",
    "grid = GridSearchCV(SVR(), param_grid, refit=True, verbose=3)    \n",
    "grid.fit(X_train, y_train)"
   ]
  },
  {
   "cell_type": "code",
   "execution_count": 18,
   "metadata": {},
   "outputs": [],
   "source": [
    "svr = SVR(C=10, gamma=0.01, kernel='rbf') \n",
    "svr.fit(X_train, y_train) \n",
    "svr_pred = svr.predict(X_test) "
   ]
  },
  {
   "cell_type": "code",
   "execution_count": 23,
   "metadata": {},
   "outputs": [],
   "source": [
    "import joblib  \n",
    "\n",
    "joblib.dump(ri, 'model.pkl') \n",
    "\n",
    "ridge_from_joblib = model = joblib.load(\"model.pkl\")"
   ]
  }
 ],
 "metadata": {
  "kernelspec": {
   "display_name": "Python 3 (ipykernel)",
   "language": "python",
   "name": "python3"
  },
  "language_info": {
   "codemirror_mode": {
    "name": "ipython",
    "version": 3
   },
   "file_extension": ".py",
   "mimetype": "text/x-python",
   "name": "python",
   "nbconvert_exporter": "python",
   "pygments_lexer": "ipython3",
   "version": "3.9.12"
  }
 },
 "nbformat": 4,
 "nbformat_minor": 4
}
